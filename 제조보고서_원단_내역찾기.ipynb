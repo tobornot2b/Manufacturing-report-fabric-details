{
 "cells": [
  {
   "cell_type": "markdown",
   "id": "fa3b138e-3246-4e4c-9e98-2765671ca4a3",
   "metadata": {},
   "source": [
    "# 제조보고서 원단 '타입/반품', '사용' 내역찾기"
   ]
  },
  {
   "cell_type": "markdown",
   "id": "962df491-c25b-4efe-9d86-9eb3e40034de",
   "metadata": {},
   "source": [
    "# 프로그램 개요\n",
    "\n",
    "- 아래 프로그램은 제조보고서 2022년 04월 'FQMADU' 아이템의 기말재고가 -0.5 야드가 나와서 원인규명을 위해 제작했다.\n",
    "- 제조보고서 아이템(완제품)중 바지나 치마같은 제품은 물량이 많아 문제가 생겼을 때 원단 추적이 까다롭다.\n",
    "- 타입/반품과 사용은 + - 관계\n",
    "- 타입 총량과 사용 총량을 sum 하여 튀어나오는 order를 잡아낸다.\n",
    "- 튀어나온 오더로 재검색하고 입출고 내역을 확인하면 문제가 생긴 시점을 알 수 있다.\n",
    "    - 원래 쿼리에서 group by로 sum한 쿼리를 개별건으로 해체해놔서 검색하면 모든 개별 order 내역이 나온다.\n",
    "- 덤으로 회수안된 샘플오더가 로직상 같이 걸려나온다."
   ]
  },
  {
   "cell_type": "code",
   "execution_count": 1,
   "id": "d7ed4cb8-4fe8-4e41-bfc3-5c7a9eb7cf83",
   "metadata": {},
   "outputs": [],
   "source": [
    "from sqlalchemy import create_engine\n",
    "import pandas as pd\n",
    "import binascii   # 한글 변환에 필요한 라이브러리\n",
    "import sys\n",
    "import pyautogui\n",
    "from datetime import datetime\n",
    "from typing import List"
   ]
  },
  {
   "cell_type": "markdown",
   "id": "ae6668a3-a9b5-44c4-b942-e7a3b200f25f",
   "metadata": {},
   "source": [
    "### DB 접속"
   ]
  },
  {
   "cell_type": "code",
   "execution_count": 2,
   "id": "5d77935e-8921-417e-8d87-87eeee6da6f7",
   "metadata": {},
   "outputs": [],
   "source": [
    "sys.path.append('/settings')\n",
    "import config\n",
    "\n",
    "def connect_db(sid):\n",
    "    if sid != config.COMPANY_DB_CONFIG['sid']:\n",
    "        raise ValueError(\"DB 를 찾을 수 없습니다.\")\n",
    "    \n",
    "    conn = create_engine(\n",
    "        \"oracle+cx_oracle://{user}:{password}@{host}:{port}/{sid}?encoding=UTF-8&nencoding=UTF-8\".format(\n",
    "            user=config.COMPANY_DB_CONFIG['user'],\n",
    "            password=config.COMPANY_DB_CONFIG['password'],\n",
    "            host=config.COMPANY_DB_CONFIG['host'],\n",
    "            port=config.COMPANY_DB_CONFIG['port'],\n",
    "            sid=config.COMPANY_DB_CONFIG['sid']\n",
    "        )\n",
    "    )\n",
    "    \n",
    "    return conn\n",
    "\n",
    "engine = connect_db('IVY')"
   ]
  },
  {
   "cell_type": "markdown",
   "id": "e1908ac2-94aa-48a1-83e4-a72c7f7821ab",
   "metadata": {},
   "source": [
    "### 완제품품번"
   ]
  },
  {
   "cell_type": "code",
   "execution_count": 3,
   "id": "4b41e024-5a45-4dbe-a164-9df6559111af",
   "metadata": {},
   "outputs": [
    {
     "data": {
      "text/plain": [
       "'SNFCAG,SNMCAG,SZMATS'"
      ]
     },
     "execution_count": 3,
     "metadata": {},
     "output_type": "execute_result"
    }
   ],
   "source": [
    "items: str = pyautogui.prompt(title='아이템',\n",
    "                         text='제조보고서의 확인할 아이템(완제품 품번)을 입력하세요.\\n여러개 입력시 , 로 구분하세요.\\n예 : FQMADU, FJFBDU, FHMBAA',\n",
    "                         default='FQMADU')\n",
    "items = items.replace(' ', '').upper()\n",
    "items"
   ]
  },
  {
   "cell_type": "code",
   "execution_count": 4,
   "id": "8aad2487-899c-46d8-9c29-6fec1ca08c5d",
   "metadata": {},
   "outputs": [
    {
     "data": {
      "text/plain": [
       "['SNFCAG', 'SNMCAG', 'SZMATS']"
      ]
     },
     "execution_count": 4,
     "metadata": {},
     "output_type": "execute_result"
    }
   ],
   "source": [
    "items: List[str] = items.split(',')\n",
    "items"
   ]
  },
  {
   "cell_type": "markdown",
   "id": "0af75f89-0814-4cb3-be25-b524c6853479",
   "metadata": {},
   "source": [
    "#### 오늘 날짜"
   ]
  },
  {
   "cell_type": "code",
   "execution_count": 5,
   "id": "1cacfbcd-85b7-41db-a441-f1025b332076",
   "metadata": {},
   "outputs": [
    {
     "data": {
      "text/plain": [
       "('2022', '07', '2021')"
      ]
     },
     "execution_count": 5,
     "metadata": {},
     "output_type": "execute_result"
    }
   ],
   "source": [
    "this_year = datetime.today().strftime('%Y')\n",
    "this_month = datetime.today().strftime('%m')\n",
    "last_year = str(int(this_year)-1)\n",
    "\n",
    "this_year, this_month, last_year"
   ]
  },
  {
   "cell_type": "markdown",
   "id": "3a3cfe95-1658-495d-be78-c597b30f5c95",
   "metadata": {},
   "source": [
    "### 시작월"
   ]
  },
  {
   "cell_type": "code",
   "execution_count": 6,
   "id": "df55da59-195c-48b9-b5fb-632d3aaca479",
   "metadata": {},
   "outputs": [
    {
     "data": {
      "text/plain": [
       "'202106'"
      ]
     },
     "execution_count": 6,
     "metadata": {},
     "output_type": "execute_result"
    }
   ],
   "source": [
    "start_month = pyautogui.prompt(title='조회기간 시작 월',\n",
    "                              text=f'조회기간 시작 월을 입력하세요.\\n예 : {last_year+\"06\"}',\n",
    "                              default=f'{last_year+\"06\"}')\n",
    "start_month"
   ]
  },
  {
   "cell_type": "markdown",
   "id": "6cd7d39d-4f3e-4b06-bfc8-d0276555cc6b",
   "metadata": {},
   "source": [
    "### 종료월"
   ]
  },
  {
   "cell_type": "code",
   "execution_count": 7,
   "id": "1ff03b63-2be1-4c59-9722-158134b476f1",
   "metadata": {},
   "outputs": [
    {
     "data": {
      "text/plain": [
       "'202205'"
      ]
     },
     "execution_count": 7,
     "metadata": {},
     "output_type": "execute_result"
    }
   ],
   "source": [
    "end_month = pyautogui.prompt(title='조회기간 종료 월',\n",
    "                             text=f'조회기간 종료 월을 입력하세요.\\n예 : {this_year + this_month}',\n",
    "                             default=f'{this_year + this_month}')\n",
    "end_month"
   ]
  },
  {
   "cell_type": "markdown",
   "id": "6025bf77-190b-4783-b2a7-2cb8d874e82d",
   "metadata": {},
   "source": [
    "### 한글변환 함수"
   ]
  },
  {
   "cell_type": "code",
   "execution_count": 8,
   "id": "5ce38df6-725a-4d5a-be04-1b32d18441e2",
   "metadata": {},
   "outputs": [],
   "source": [
    "# # US7ASCII -> CP949(완성형한글) 로 변환\n",
    "def us7ascii_to_cp949(df: pd.DataFrame) -> pd.DataFrame:\n",
    "    for index, byte_data in enumerate(df):\n",
    "        if byte_data == None: # null 값이면 패스. 안하면 변환 에러난다.\n",
    "            continue\n",
    "        byte_data = binascii.unhexlify(df[index])  # 16진수 문자열 hexstr로 표현된 바이너리 데이터를 반환. 역함수는 b2a_hex()\n",
    "        df[index] = byte_data.decode(\"cp949\")  # 바이트 변환값 -> cp949(완성형 한글) 로 변환\n",
    "    return df"
   ]
  },
  {
   "cell_type": "markdown",
   "id": "3ca7dad6-94a9-4791-8107-2b8dcfb0befb",
   "metadata": {},
   "source": [
    "### 표준정보 쿼리 함수"
   ]
  },
  {
   "cell_type": "code",
   "execution_count": 9,
   "id": "fefc6efe-2ae1-4837-adb0-d89ec1963b59",
   "metadata": {},
   "outputs": [],
   "source": [
    "def sql_query(oracleSql: str) -> pd.DataFrame:\n",
    "    df = pd.read_sql_query(oracleSql, engine)\n",
    "\n",
    "    if 'tkyk_name' in df.columns: # 해당컬럼이 없어도 에러없이 처리\n",
    "        df_temp = df['tkyk_name'].copy()\n",
    "        df['tkyk_name'] = us7ascii_to_cp949(df_temp)\n",
    "\n",
    "    if 'agen_name' in df.columns:\n",
    "        df_temp = df['agen_name'].copy()\n",
    "        df['agen_name'] = us7ascii_to_cp949(df_temp)\n",
    "\n",
    "    if 'sch_name' in df.columns:\n",
    "        df_temp = df['sch_name'].copy()\n",
    "        df['sch_name'] = us7ascii_to_cp949(df_temp)\n",
    "    \n",
    "    return df"
   ]
  },
  {
   "cell_type": "markdown",
   "id": "eb999a74-7d6b-4252-9d45-d31e858a8632",
   "metadata": {
    "tags": []
   },
   "source": [
    "### 조건부서식 함수 (셀 스타일 배경색 추가, 텍스트 굵게 적용)"
   ]
  },
  {
   "cell_type": "code",
   "execution_count": 10,
   "id": "c0e638a3-e03b-4cba-bb39-3f7472337292",
   "metadata": {
    "tags": []
   },
   "outputs": [],
   "source": [
    "def draw_color_in_bursojae(value: str, color: str, font_weight: str) -> str:\n",
    "    if str(value) == '00':\n",
    "        fill1 = color\n",
    "        fill2 = font_weight\n",
    "    else:\n",
    "        fill1 = \"inherit\"\n",
    "        fill2 = \"inherit\"\n",
    "\n",
    "    return f\"background-color: {fill1};font-weight: {fill2}\""
   ]
  },
  {
   "cell_type": "markdown",
   "id": "d8c8848f-9e8e-4d30-842e-49519f43758c",
   "metadata": {},
   "source": [
    "### 해당 ITEM 의 완전히 소진되지 않은 원단찾는 함수"
   ]
  },
  {
   "cell_type": "code",
   "execution_count": 11,
   "id": "8ec63388-b8d4-41ea-9a13-76ae66d02825",
   "metadata": {},
   "outputs": [],
   "source": [
    "def get_fabric_diff(item: str) -> None:\n",
    "    \n",
    "    # 타입/반품 SQL\n",
    "\n",
    "    # i_chulgo_t 테이블\n",
    "    #  cdate 기준으로 정산\n",
    "    # 기간 : 전년 6월 ~ 문제생긴 달\n",
    "    # qty 가 양수이면 타입, 음수면 반품\n",
    "    \n",
    "    sql1 = f'''\n",
    "SELECT '1'                              gubun,\n",
    "       master_order                     order_no,\n",
    "       master_status                    st,\n",
    "       Rawtohex(utl_raw.Cast_to_raw(sch_name)) sch_name,\n",
    "       chulgo_item                      item,\n",
    "       stock_paitem                     paitem,\n",
    "       chulgo_sojae                     sojae,\n",
    "       chulgo_millon                    millon,\n",
    "       chulgo_cdate                     cdate,\n",
    "       Decode(chulgo_fact, 'VPF22', 'VPF31',\n",
    "                           chulgo_fact) fact,\n",
    "       chulgo_qty                       qty\n",
    "FROM   i_chulgo_t,\n",
    "       i_stock_t,\n",
    "       i_suju_master_t,\n",
    "       i_sch_t\n",
    "WHERE  chulgo_cdate BETWEEN To_date('{start_month[:4]}'\n",
    "                                    ||'{start_month[-2:]}'\n",
    "                                    ||'01 000000', 'yyyymmdd hh24:mi:ss') AND\n",
    "                            Last_day(\n",
    "                                                        To_date('{end_month[:4]}'\n",
    "                                                                ||'{end_month[-2:]}'\n",
    "                                                                ||'01 235959',\n",
    "                                                        'yyyymmdd hh24:mi:ss'))\n",
    "       AND chulgo_item IN ('{item}')\n",
    "       AND chulgo_millon = stock_millon\n",
    "       AND chulgo_order = master_order\n",
    "       AND ( master_remake = 'H'\n",
    "              OR master_agent = 'VZ001' )\n",
    "       AND sch_code(+) = master_school\n",
    "UNION ALL\n",
    "SELECT '2'                              gubun,\n",
    "       master2_order                    order_no,\n",
    "       master2_status                   st,\n",
    "       Rawtohex(utl_raw.Cast_to_raw(sch_name)) sch_name,\n",
    "       chulgo_item                      item,\n",
    "       stock_paitem                     paitem,\n",
    "       chulgo_sojae                     sojae,\n",
    "       chulgo_millon                    millon,\n",
    "       chulgo_cdate                     cdate,\n",
    "       Decode(chulgo_fact, 'VPF22', 'VPF31',\n",
    "                           chulgo_fact) fact,\n",
    "       chulgo_qty                       qty\n",
    "FROM   i_chulgo_t,\n",
    "       i_stock_t,\n",
    "       i_suju_master2_t,\n",
    "       i_sch_t\n",
    "WHERE  chulgo_cdate BETWEEN To_date('{start_month[:4]}'\n",
    "                                    ||'{start_month[-2:]}'\n",
    "                                    ||'01 000000', 'yyyymmdd hh24:mi:ss') AND\n",
    "                            Last_day(\n",
    "                                                        To_date('{end_month[:4]}'\n",
    "                                                                ||'{end_month[-2:]}'\n",
    "                                                                ||'01 235959',\n",
    "                                                        'yyyymmdd hh24:mi:ss'))\n",
    "       AND chulgo_item IN ('{item}')\n",
    "       AND chulgo_millon = stock_millon\n",
    "       AND chulgo_order = master2_order\n",
    "       AND master2_remake = 'S'\n",
    "       AND master2_jaepum <> 'P'\n",
    "       AND master2_squota IS NOT NULL\n",
    "       AND sch_code(+) = master2_school\n",
    "UNION ALL\n",
    "SELECT '3'                              gubun,\n",
    "       master_order                     order_no,\n",
    "       master_status                    st,\n",
    "       Rawtohex(utl_raw.Cast_to_raw(sch_name)) sch_name,\n",
    "       chulgo_item                      item,\n",
    "       stock_paitem                     paitem,\n",
    "       chulgo_sojae                     sojae,\n",
    "       chulgo_millon                    millon,\n",
    "       chulgo_cdate                     cdate,\n",
    "       Decode(chulgo_fact, 'VPF22', 'VPF31',\n",
    "                           chulgo_fact) fact,\n",
    "       chulgo_qty                       qty\n",
    "FROM   i_chulgo_t,\n",
    "       i_stock_t,\n",
    "       i_suju_master_t,\n",
    "       i_sch_t\n",
    "WHERE  chulgo_cdate BETWEEN To_date('{start_month[:4]}'\n",
    "                                    ||'{start_month[-2:]}'\n",
    "                                    ||'01 000000', 'yyyymmdd hh24:mi:ss') AND\n",
    "                            Last_day(\n",
    "                                                        To_date('{end_month[:4]}'\n",
    "                                                                ||'{end_month[-2:]}'\n",
    "                                                                ||'01 235959',\n",
    "                                                        'yyyymmdd hh24:mi:ss'))\n",
    "       AND chulgo_item IN ('{item}')\n",
    "       AND chulgo_millon = stock_millon\n",
    "       AND chulgo_order = master_order\n",
    "       AND master_remake <> 'H'\n",
    "       AND sch_code(+) = master_school \n",
    "'''\n",
    "    \n",
    "    # 사용량 SQL\n",
    "\n",
    "    # 정보가 타입쪽에 비해 모자람.\n",
    "    # 밀넘버, 소재코드, 봉제업체가 없다.\n",
    "    \n",
    "    sql2 = f'''\n",
    "SELECT '1'                   gubun,\n",
    "       master_order          order_no,\n",
    "       master_status         st,\n",
    "       Rawtohex(utl_raw.Cast_to_raw(sch_name)) sch_name,\n",
    "       master_item           item,\n",
    "       prods_paitem          paitem,\n",
    "       prods_cdate           cdate,\n",
    "       Nvl(prods_use_qty, 0) qty\n",
    "FROM   i_suju_fact_t,\n",
    "       i_prod_sub_t,\n",
    "       i_suju_master_t,\n",
    "       i_sch_t\n",
    "WHERE  prods_cdate BETWEEN To_date('{start_month[:4]}'\n",
    "                                   ||'{start_month[-2:]}'\n",
    "                                   ||'01 000000', 'yyyymmdd hh24:mi:ss') AND\n",
    "                           Last_day(\n",
    "                                                      To_date('{end_month[:4]}'\n",
    "                                                              ||'{end_month[-2:]}'\n",
    "                                                              ||'01 235959',\n",
    "                                                      'yyyymmdd hh24:mi:ss'))\n",
    "       AND master_item IN ('{item}')\n",
    "       AND prods_order = fact_order\n",
    "       AND fact_order = master_order\n",
    "       AND ( master_remake = 'H'\n",
    "              OR master_agent = 'VZ001' )\n",
    "       AND sch_code(+) = master_school\n",
    "UNION ALL\n",
    "SELECT '2'                   gubun,\n",
    "       master2_order         order_no,\n",
    "       master2_status        st,\n",
    "       Rawtohex(utl_raw.Cast_to_raw(sch_name)) sch_name,\n",
    "       master2_item          item,\n",
    "       prods_paitem          paitem,\n",
    "       prods_cdate           cdate,\n",
    "       Nvl(prods_use_qty, 0) qty\n",
    "FROM   i_suju_fact_t,\n",
    "       i_prod_sub_t,\n",
    "       i_suju_master2_t,\n",
    "       i_sch_t\n",
    "WHERE  prods_cdate BETWEEN To_date('{start_month[:4]}'\n",
    "                                   ||'{start_month[-2:]}'\n",
    "                                   ||'01 000000', 'yyyymmdd hh24:mi:ss') AND\n",
    "                           Last_day(\n",
    "                                                      To_date('{end_month[:4]}'\n",
    "                                                              ||'{end_month[-2:]}'\n",
    "                                                              ||'01 235959',\n",
    "                                                      'yyyymmdd hh24:mi:ss'))\n",
    "       AND master2_item IN ('{item}')\n",
    "       AND prods_order = fact_order\n",
    "       AND fact_order = master2_order\n",
    "       AND master2_remake = 'S'\n",
    "       AND master2_jaepum <> 'P'\n",
    "       AND master2_squota IS NOT NULL\n",
    "       AND sch_code(+) = master2_school\n",
    "UNION ALL\n",
    "SELECT '3'                   gubun,\n",
    "       master_order          order_no,\n",
    "       master_status         st,\n",
    "       Rawtohex(utl_raw.Cast_to_raw(sch_name)) sch_name,\n",
    "       master_item           item,\n",
    "       prods_paitem          paitem,\n",
    "       prods_cdate           cdate,\n",
    "       Nvl(prods_use_qty, 0) qty\n",
    "FROM   i_suju_fact_t,\n",
    "       i_prod_sub_t,\n",
    "       i_suju_master_t,\n",
    "       i_sch_t\n",
    "WHERE  prods_cdate BETWEEN To_date('{start_month[:4]}'\n",
    "                                   ||'{start_month[-2:]}'\n",
    "                                   ||'01 000000', 'yyyymmdd hh24:mi:ss') AND\n",
    "                           Last_day(\n",
    "                                                      To_date('{end_month[:4]}'\n",
    "                                                              ||'{end_month[-2:]}'\n",
    "                                                              ||'01 235959',\n",
    "                                                      'yyyymmdd hh24:mi:ss'))\n",
    "       AND master_item IN ('{item}')\n",
    "       AND prods_order = fact_order\n",
    "       AND fact_order = master_order\n",
    "       AND master_remake <> 'H'\n",
    "       AND master_agent <> 'VZ001'\n",
    "       AND sch_code(+) = master_school\n",
    "'''\n",
    "    \n",
    "    # 타입/반품 쿼리\n",
    "    df_taip = sql_query(sql1)\n",
    "    df_ta = df_taip[['order_no','st','sch_name','item','paitem','sojae','millon','cdate','fact','qty']].copy()\n",
    "\n",
    "    # 사용량 쿼리\n",
    "    df_sayoung = sql_query(sql2)\n",
    "    df_sayoung['millon'] = '' # 프레임 합치기를 위해 빈 column 생성\n",
    "    df_sayoung['fact'] = ''\n",
    "    df_sayoung['sojae'] = ''\n",
    "    df_sa = df_sayoung[['order_no','st','sch_name','item','paitem','sojae','millon','cdate','fact','qty']].copy()\n",
    "    df_sa['qty'] = df_sa['qty'] * (-1) # sum해서 0으로 만들거라 -1을 곱해준다.\n",
    "    \n",
    "    # 합치기\n",
    "    df_calc = pd.concat([df_ta, df_sa])\n",
    "    \n",
    "    # 집계\n",
    "    df_calc2 = df_calc.groupby(['item', 'order_no'])[['qty']].agg(sum) # 아이템과 오더번호 기준 sum\n",
    "    \n",
    "    # 집계결과에서 합계가 0인 오더는 삭제\n",
    "    df_result = df_calc2[df_calc2['qty'] != 0] # 0인 오더를 걷어낸다. (집계내용이 없으면 에러)\n",
    "    \n",
    "    df_result = df_result.reset_index()\n",
    "    order = df_result['order_no'].to_list()\n",
    "    \n",
    "    # 세부내역\n",
    "    df_temp1 = pd.DataFrame()\n",
    "    for no in order:\n",
    "        df_temp1 = pd.concat([df_temp1, df_ta[df_ta['order_no'] == no]])\n",
    "    df_temp1 = df_temp1.sort_values(['cdate']).reset_index(drop=True)\n",
    "    \n",
    "    # 혹시나 사용량도 확인해본다.\n",
    "    df_temp2 = pd.DataFrame()\n",
    "    for no in order:\n",
    "        df_temp2 = pd.concat([df_temp2, df_sa[df_sa['order_no'] == no]])\n",
    "    \n",
    "    # 조건부서식 적용 (셀 스타일 배경색 추가, 텍스트 굵게 적용)\n",
    "    df_temp1 = df_temp1.style.applymap(draw_color_in_bursojae, color='#FFC000', font_weight='bold')\n",
    "    \n",
    "    # 시트 기록\n",
    "    df_temp1.to_excel(writer, sheet_name=item, index=False)"
   ]
  },
  {
   "cell_type": "code",
   "execution_count": 12,
   "id": "162b0d52-df85-4a7a-b584-13f6075df245",
   "metadata": {},
   "outputs": [],
   "source": [
    "# 엑셀저장\n",
    "writer = pd.ExcelWriter(f'{start_month}_{end_month}_제조보고서_원단내역.xlsx', engine='xlsxwriter')\n",
    "\n",
    "for item in items:\n",
    "    get_fabric_diff(item)\n",
    "\n",
    "writer.save()"
   ]
  }
 ],
 "metadata": {
  "kernelspec": {
   "display_name": "Python 3 (ipykernel)",
   "language": "python",
   "name": "python3"
  },
  "language_info": {
   "codemirror_mode": {
    "name": "ipython",
    "version": 3
   },
   "file_extension": ".py",
   "mimetype": "text/x-python",
   "name": "python",
   "nbconvert_exporter": "python",
   "pygments_lexer": "ipython3",
   "version": "3.8.13"
  }
 },
 "nbformat": 4,
 "nbformat_minor": 5
}
